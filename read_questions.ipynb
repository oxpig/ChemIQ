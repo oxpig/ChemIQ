{
 "cells": [
  {
   "cell_type": "markdown",
   "id": "c7ecef16-f25d-40f8-82c5-466e8dc3b797",
   "metadata": {},
   "source": [
    "# Example of how to read questions in chemiq.jsonl"
   ]
  },
  {
   "cell_type": "code",
   "execution_count": 1,
   "id": "44288793-40d3-41f4-8999-cba451fad034",
   "metadata": {},
   "outputs": [
    {
     "name": "stdout",
     "output_type": "stream",
     "text": [
      "Loaded 816 questions\n"
     ]
    }
   ],
   "source": [
    "import json\n",
    "\n",
    "# Load question data\n",
    "all_questions = []\n",
    "with open(\"questions/chemiq.jsonl\", 'r') as f:\n",
    "    for line in f:\n",
    "        all_questions.append(json.loads(line))\n",
    "\n",
    "print(f\"Loaded {len(all_questions)} questions\")"
   ]
  },
  {
   "cell_type": "markdown",
   "id": "6465a440-7260-4001-afe0-e9ea420f8f48",
   "metadata": {},
   "source": [
    "# Question JSON Format\n",
    "\n",
    "Each question is a Python dict with the following keys:\n",
    "\n",
    "- **uuid**: unique identifier\n",
    "- **ChemIQ**: Boolean whether question is part of main ChemIQ benchmark\n",
    "- **question_category**, **sub_category**  \n",
    "- **meta_data**: e.g. `smiles`, `smiles_random`, `carbon_count`  \n",
    "- **prompt**: the question text shown to users  \n",
    "- **answer**: the expected answer  \n",
    "- **answer_format**, **answer_range**, **verification_method**  \n",
    "\n",
    "To submit a question, send its `prompt` and keep track of the `uuid`.  \n"
   ]
  },
  {
   "cell_type": "code",
   "execution_count": 2,
   "id": "b7aa1141-7ba4-47c5-9c3c-1402971ca98a",
   "metadata": {},
   "outputs": [
    {
     "data": {
      "text/plain": [
       "{'uuid': 'ee76b5bc-6a08-4f92-b4c7-337d955f8838',\n",
       " 'question_category': 'nmr_elucidation',\n",
       " 'sub_category': 'zinc_2d',\n",
       " 'smiles': 'O=Nc1ccc(Br)cc1',\n",
       " 'prompt': 'Write the SMILES string of the molecule consistent with this data.\\n\\nFormula: C6H4BrNO\\n\\n1H NMR: δ 8.02 (ddd, J = 8.53, 2.05, 0.46 Hz, 2H), 7.5 (ddd, J = 8.53, 1.26, 0.46 Hz, 2H).\\n\\n13C NMR: δ 163.95 (1C, s), 132.71 (2C, s), 122.19 (2C, s), 120 (1C, s).\\n\\nCOSY (δH, δH): (7.5, 8.02).\\n\\nHSQC (δH, δC): (7.5, 132.71), (8.02, 122.19).\\n\\nHMBC (δH, δC): (8.02, 163.95), (7.5, 163.95), (8.02, 132.71), (7.5, 132.71), (8.02, 122.19), (7.5, 122.19), (8.02, 120), (7.5, 120).\\n\\nOnly write the SMILES string. Do not write stereochemistry. Do not write any comments.',\n",
       " 'answer': 'O=Nc1ccc(Br)cc1',\n",
       " 'answer_format': 'smiles',\n",
       " 'answer_range': None,\n",
       " 'verification_method': 'canonical_smi_match',\n",
       " 'ChemIQ': True}"
      ]
     },
     "execution_count": 2,
     "metadata": {},
     "output_type": "execute_result"
    }
   ],
   "source": [
    "all_questions[0]"
   ]
  },
  {
   "cell_type": "markdown",
   "id": "f4a7d667-0243-4e96-98ad-452461f3e6e7",
   "metadata": {},
   "source": [
    "# Example question"
   ]
  },
  {
   "cell_type": "code",
   "execution_count": 3,
   "id": "5caca7e9-567c-44db-b1c7-81223a944e5a",
   "metadata": {},
   "outputs": [
    {
     "name": "stdout",
     "output_type": "stream",
     "text": [
      "==================== PROMPT ====================\n",
      "Write the SMILES string of the molecule consistent with this data.\n",
      "\n",
      "Formula: C6H4BrNO\n",
      "\n",
      "1H NMR: δ 8.02 (ddd, J = 8.53, 2.05, 0.46 Hz, 2H), 7.5 (ddd, J = 8.53, 1.26, 0.46 Hz, 2H).\n",
      "\n",
      "13C NMR: δ 163.95 (1C, s), 132.71 (2C, s), 122.19 (2C, s), 120 (1C, s).\n",
      "\n",
      "COSY (δH, δH): (7.5, 8.02).\n",
      "\n",
      "HSQC (δH, δC): (7.5, 132.71), (8.02, 122.19).\n",
      "\n",
      "HMBC (δH, δC): (8.02, 163.95), (7.5, 163.95), (8.02, 132.71), (7.5, 132.71), (8.02, 122.19), (7.5, 122.19), (8.02, 120), (7.5, 120).\n",
      "\n",
      "Only write the SMILES string. Do not write stereochemistry. Do not write any comments.\n",
      "==================== ANSWER ====================\n",
      "O=Nc1ccc(Br)cc1\n"
     ]
    }
   ],
   "source": [
    "print(f\"{'='*20} PROMPT {'='*20}\")\n",
    "print(all_questions[0][\"prompt\"])\n",
    "print(f\"{'='*20} ANSWER {'='*20}\")\n",
    "print(all_questions[0][\"answer\"])"
   ]
  },
  {
   "cell_type": "code",
   "execution_count": null,
   "id": "5d7c3b49-6ce0-4f1e-94c4-c79bbe24a816",
   "metadata": {},
   "outputs": [],
   "source": []
  },
  {
   "cell_type": "code",
   "execution_count": null,
   "id": "2e08a152-88e2-460b-832f-2e148a79a978",
   "metadata": {},
   "outputs": [],
   "source": []
  }
 ],
 "metadata": {
  "kernelspec": {
   "display_name": "Python 3 (ipykernel)",
   "language": "python",
   "name": "python3"
  },
  "language_info": {
   "codemirror_mode": {
    "name": "ipython",
    "version": 3
   },
   "file_extension": ".py",
   "mimetype": "text/x-python",
   "name": "python",
   "nbconvert_exporter": "python",
   "pygments_lexer": "ipython3",
   "version": "3.10.13"
  }
 },
 "nbformat": 4,
 "nbformat_minor": 5
}
